{
  "nbformat": 4,
  "nbformat_minor": 0,
  "metadata": {
    "colab": {
      "provenance": [],
      "gpuType": "T4",
      "include_colab_link": true
    },
    "kernelspec": {
      "name": "python3",
      "display_name": "Python 3"
    },
    "language_info": {
      "name": "python"
    },
    "accelerator": "GPU"
  },
  "cells": [
    {
      "cell_type": "markdown",
      "metadata": {
        "id": "view-in-github",
        "colab_type": "text"
      },
      "source": [
        "<a href=\"https://colab.research.google.com/github/rikshith02/DeepRelation-VGG16-/blob/main/DeepRelation.ipynb\" target=\"_parent\"><img src=\"https://colab.research.google.com/assets/colab-badge.svg\" alt=\"Open In Colab\"/></a>"
      ]
    },
    {
      "cell_type": "code",
      "source": [
        "from google.colab import drive\n",
        "drive.mount('/content/drive')"
      ],
      "metadata": {
        "colab": {
          "base_uri": "https://localhost:8080/"
        },
        "id": "kvXvkbDKdyAl",
        "outputId": "1f4ddceb-b616-428f-b11c-7dc4cc579bc4"
      },
      "execution_count": null,
      "outputs": [
        {
          "output_type": "stream",
          "name": "stdout",
          "text": [
            "Mounted at /content/drive\n"
          ]
        }
      ]
    },
    {
      "cell_type": "code",
      "execution_count": null,
      "metadata": {
        "id": "GcilFVDu_lDx",
        "colab": {
          "base_uri": "https://localhost:8080/"
        },
        "outputId": "d7a72179-bf2d-4a68-de45-2a65d8c82b7d"
      },
      "outputs": [
        {
          "output_type": "stream",
          "name": "stdout",
          "text": [
            "Downloading data from https://storage.googleapis.com/tensorflow/keras-applications/vgg16/vgg16_weights_tf_dim_ordering_tf_kernels_notop.h5\n",
            "58889256/58889256 [==============================] - 0s 0us/step\n"
          ]
        }
      ],
      "source": [
        "# Would be trying VGG16 as a convolutional base to further increase performance accuracy of the network.\n",
        "\n",
        "from keras.applications import VGG16\n",
        "\n",
        "conv_base = VGG16(weights='imagenet',\n",
        "                  include_top=False,\n",
        "                  input_shape=(64, 64, 3))"
      ]
    },
    {
      "cell_type": "code",
      "source": [
        "import matplotlib.pyplot as plt\n",
        "import os\n",
        "import glob\n",
        "import numpy as np\n",
        "\n",
        "\n",
        "# The load data function loads the files(images) from all the classes (f-d, f-s, m-d, m-s), prepares labels for the same\n",
        "# and calls import_dir which performs the function to merge the parent and child images into a single image as required for\n",
        "# input to the model.\n",
        "# returns all images from all folders into parent-child image form.\n",
        "def load_data(dirs):\n",
        "    all_images = []\n",
        "    all_labels = []\n",
        "    combination= {}\n",
        "    label = 1\n",
        "    for dir in sorted(os.listdir(dirs)):\n",
        "        dir_name = os.path.join(dirs, dir)\n",
        "        images, num_of_files = import_dir(dir_name)\n",
        "        all_images.append(images)\n",
        "        all_labels.append([label for i in range(num_of_files)])\n",
        "        print(dir_name)\n",
        "        print(len(images))\n",
        "        label += 1\n",
        "    return all_images, all_labels\n",
        "\n",
        "\n",
        "# import_dir reads all files(images) for a given directory (say father-dau) and combines parent-child images to form a single\n",
        "# 6 channel image which is used as input for the proposed model.\n",
        "# The start variable is required to skip any thumbs.db file that may be present in the folder containing the images.\n",
        "# return parent-child images for the given directory.\n",
        "\n",
        "def import_dir(dir_name):\n",
        "    files = sorted(os.listdir(dir_name))\n",
        "    dir_images = []\n",
        "    start = 0\n",
        "    if len(files)%2 != 0:\n",
        "        start = 1\n",
        "    for file1, file2 in zip(files[start::2], files[start+1::2]):\n",
        "        images = np.zeros((64, 64, 6))\n",
        "        #if file.split('.')[0][-1] == \"1\":\n",
        "        parent = plt.imread(os.path.join(dir_name, file1))\n",
        "        images[:,:,0:3] = parent\n",
        "        #if file.split('.')[0][-1] == \"2\":\n",
        "        child = plt.imread(os.path.join(dir_name, file2))\n",
        "        images[:,:,3:6] = child\n",
        "#       plt.imshow(images[:,:,5])\n",
        "#       plt.show()\n",
        "#       input(\" .... \")\n",
        "#       print(file)\n",
        "        dir_images.append(images)\n",
        "\n",
        "    return dir_images, len(dir_images)\n",
        "\n",
        "dir_images, length = import_dir(\"/content/drive/MyDrive/Colab Notebooks/KinFaceW-I/images/father-dau\")\n",
        "plt.imshow(dir_images[58][:,:,1])\n"
      ],
      "metadata": {
        "id": "5dc-QqC__mhe",
        "colab": {
          "base_uri": "https://localhost:8080/",
          "height": 449
        },
        "outputId": "e9203c8b-770d-4863-f886-74159f3cb754"
      },
      "execution_count": null,
      "outputs": [
        {
          "output_type": "execute_result",
          "data": {
            "text/plain": [
              "<matplotlib.image.AxesImage at 0x79fdfd486740>"
            ]
          },
          "metadata": {},
          "execution_count": 4
        },
        {
          "output_type": "display_data",
          "data": {
            "text/plain": [
              "<Figure size 640x480 with 1 Axes>"
            ],
            "image/png": "[encoded data removed]"
          },
          "metadata": {}
        }
      ]
    },
    {
      "cell_type": "code",
      "source": [
        "# Using the load_data function obtain the train images (in paernt-child format) along with the labels for each class\n",
        "# from the KinFaceW-II dataset.\n",
        "train_images, train_labels = load_data(\"/content/drive/MyDrive/Colab Notebooks/KinFaceW-I/images\")"
      ],
      "metadata": {
        "colab": {
          "base_uri": "https://localhost:8080/"
        },
        "id": "v8dQfyrjApx5",
        "outputId": "9ebbbd99-3b56-4048-9ea2-229869d28654"
      },
      "execution_count": null,
      "outputs": [
        {
          "output_type": "stream",
          "name": "stdout",
          "text": [
            "/content/drive/MyDrive/Colab Notebooks/KinFaceW-I/images/father-dau\n",
            "134\n",
            "/content/drive/MyDrive/Colab Notebooks/KinFaceW-I/images/father-son\n",
            "156\n",
            "/content/drive/MyDrive/Colab Notebooks/KinFaceW-I/images/mother-dau\n",
            "127\n",
            "/content/drive/MyDrive/Colab Notebooks/KinFaceW-I/images/mother-son\n",
            "116\n"
          ]
        }
      ]
    },
    {
      "cell_type": "code",
      "source": [
        "# Combine all train_images obtained into a single variable train_img\n",
        "# Combine all train_labels obtained into a single variable train_labels\n",
        "train_img = np.r_[train_images[0], train_images[1], train_images[2], train_images[3]]\n",
        "train_labels = np.r_[np.array(train_labels[0]), np.array(train_labels[1]), np.array(train_labels[2]), np.array(train_labels[3])]"
      ],
      "metadata": {
        "id": "t4OiMwhhBL62"
      },
      "execution_count": null,
      "outputs": []
    },
    {
      "cell_type": "code",
      "source": [
        "# Obtain the test images (in parent-child form) along with the labels for each class\n",
        "# from the KinFaceW-I dataset.\n",
        "test_images, test_labels = load_data(\"/content/drive/MyDrive/Colab Notebooks/KinFaceW-I/images\")"
      ],
      "metadata": {
        "colab": {
          "base_uri": "https://localhost:8080/"
        },
        "id": "S5DpHBKOBXgd",
        "outputId": "4c50973e-dca5-4eed-fce3-090dc083f195"
      },
      "execution_count": null,
      "outputs": [
        {
          "output_type": "stream",
          "name": "stdout",
          "text": [
            "/content/drive/MyDrive/Colab Notebooks/KinFaceW-I/images/father-dau\n",
            "134\n",
            "/content/drive/MyDrive/Colab Notebooks/KinFaceW-I/images/father-son\n",
            "156\n",
            "/content/drive/MyDrive/Colab Notebooks/KinFaceW-I/images/mother-dau\n",
            "127\n",
            "/content/drive/MyDrive/Colab Notebooks/KinFaceW-I/images/mother-son\n",
            "116\n"
          ]
        }
      ]
    },
    {
      "cell_type": "code",
      "source": [
        "# Combine all the test images into a single variable test_imgs\n",
        "# Combine all the test labels into a single variable test_lab\n",
        "\n",
        "test_img = np.zeros((len(test_images[0]) + len(test_images[1]) + len(test_images[2]) + len(test_images[3]), 64, 64, 6))\n",
        "test_img = np.r_[test_images[0], test_images[1], test_images[2], test_images[3]]\n",
        "test_lab = np.r_[np.array(test_labels[0]), np.array(test_labels[1]), np.array(test_labels[2]), np.array(test_labels[3])]\n",
        "test_lab.shape"
      ],
      "metadata": {
        "colab": {
          "base_uri": "https://localhost:8080/"
        },
        "id": "pArC1WfNEdqs",
        "outputId": "68be58db-a2bf-4042-cb67-77b08180e935"
      },
      "execution_count": null,
      "outputs": [
        {
          "output_type": "execute_result",
          "data": {
            "text/plain": [
              "(533,)"
            ]
          },
          "metadata": {},
          "execution_count": 7
        }
      ]
    },
    {
      "cell_type": "code",
      "source": [
        "# Convert the labels into categorical variables for the multi-class classification task.\n",
        "\n",
        "from keras.utils import to_categorical\n",
        "train_labels_cat = to_categorical(train_labels - 1)\n",
        "test_labels_cat = to_categorical(test_lab - 1)"
      ],
      "metadata": {
        "id": "_xAFIFd3FEt4"
      },
      "execution_count": null,
      "outputs": []
    },
    {
      "cell_type": "code",
      "source": [
        "# Prepare datagenerator for Data Augmetnation\n",
        "\n",
        "from keras.preprocessing.image import ImageDataGenerator\n",
        "\n",
        "datagen = ImageDataGenerator(\n",
        "        featurewise_center=False,\n",
        "        samplewise_center=False,\n",
        "        featurewise_std_normalization=False,\n",
        "        samplewise_std_normalization=False,\n",
        "        zca_whitening=False,\n",
        "        rotation_range=10,\n",
        "        zoom_range = 0.0,\n",
        "        width_shift_range=0.1,\n",
        "        height_shift_range=0.1,\n",
        "        horizontal_flip=True)\n",
        "\n",
        "datagen.fit(train_img)"
      ],
      "metadata": {
        "id": "K0s7gQGiTpod",
        "colab": {
          "base_uri": "https://localhost:8080/"
        },
        "outputId": "2e404632-1319-466b-a41a-e870a363ce3e"
      },
      "execution_count": null,
      "outputs": [
        {
          "output_type": "stream",
          "name": "stderr",
          "text": [
            "/usr/local/lib/python3.10/dist-packages/keras/src/preprocessing/image.py:2093: UserWarning: Expected input to be images (as Numpy array) following the data format convention \"channels_last\" (channels on axis 3), i.e. expected either 1, 3 or 4 channels on axis 3. However, it was passed an array with shape (533, 64, 64, 6) (6 channels).\n",
            "  warnings.warn(\n"
          ]
        }
      ]
    },
    {
      "cell_type": "code",
      "source": [
        "from keras import layers\n",
        "from keras import models\n",
        "from keras import optimizers"
      ],
      "metadata": {
        "id": "mc0KuDPbFGrp"
      },
      "execution_count": null,
      "outputs": []
    },
    {
      "cell_type": "code",
      "source": [
        "from keras import models, layers, optimizers\n",
        "from keras.preprocessing.image import ImageDataGenerator\n",
        "import numpy as np\n",
        "\n",
        "# Set a seed for reproducibility\n",
        "seed_value = 42\n",
        "np.random.seed(seed_value)\n",
        "\n",
        "def model_2():\n",
        "    model = models.Sequential()\n",
        "    model.add(layers.Conv2D(16, (5, 5), strides=1, padding='valid', input_shape=(64, 64, 6), use_bias=False))\n",
        "    model.add(layers.BatchNormalization())\n",
        "    model.add(layers.Activation('relu'))\n",
        "    model.add(layers.MaxPooling2D((2, 2)))\n",
        "\n",
        "    model.add(layers.Conv2D(32, (3, 3), use_bias=False))\n",
        "    model.add(layers.BatchNormalization())\n",
        "    model.add(layers.Activation('relu'))\n",
        "    model.add(layers.MaxPooling2D((2, 2)))\n",
        "\n",
        "    model.add(layers.Conv2D(64, (3, 3), use_bias=False))\n",
        "    model.add(layers.BatchNormalization())\n",
        "    model.add(layers.Activation('relu'))\n",
        "    model.add(layers.MaxPooling2D((2, 2)))\n",
        "    model.add(layers.Dropout(0.4))\n",
        "\n",
        "    model.add(layers.Conv2D(64, (2, 2), use_bias=False))\n",
        "    model.add(layers.BatchNormalization())\n",
        "    model.add(layers.Activation('relu'))\n",
        "    model.add(layers.MaxPooling2D((2, 2)))\n",
        "\n",
        "    model.add(layers.Flatten())\n",
        "    model.add(layers.Dense(512, use_bias=False))\n",
        "    model.add(layers.BatchNormalization())\n",
        "    model.add(layers.Activation('relu'))\n",
        "\n",
        "    model.add(layers.Dropout(0.4))\n",
        "    model.add(layers.Dense(4, activation='softmax'))\n",
        "\n",
        "    adam = optimizers.Adam(learning_rate=0.001, beta_1=0.9, beta_2=0.999, epsilon=1e-08)\n",
        "    model.compile(optimizer=adam, loss='binary_crossentropy', metrics=['accuracy'])\n",
        "    return model\n",
        "\n",
        "# Set seed for ImageDataGenerator\n",
        "datagen = ImageDataGenerator(\n",
        "    featurewise_center=False,\n",
        "    samplewise_center=False,\n",
        "    # featurewise_std_normalization=False,\n",
        "    # samplewise_std_normalization=False,\n",
        "    zca_whitening=False,\n",
        "    rotation_range=10,\n",
        "    zoom_range=0.0,\n",
        "    width_shift_range=0.1,\n",
        "    height_shift_range=0.1,\n",
        "    horizontal_flip=True)\n",
        "\n",
        "datagen.fit(train_img, seed=seed_value)\n",
        "\n",
        "batch_size = 30\n",
        "import matplotlib.pyplot as plt\n",
        "\n",
        "# ... (Your existing code)\n",
        "\n",
        "# Set seed for model training\n",
        "model = model_2()\n",
        "history = model.fit(datagen.flow(train_img/255, train_labels_cat, seed=seed_value),\n",
        "                    steps_per_epoch=len(train_img)//batch_size,\n",
        "                    epochs=30,\n",
        "                    verbose=1,\n",
        "                    shuffle=True,\n",
        "                    validation_data=(test_img/255, test_labels_cat),\n",
        "                    validation_steps=len(test_img)//batch_size)\n",
        "\n",
        "# Plot training metrics\n",
        "def plot_metrics(history):\n",
        "    plt.figure(figsize=(12, 4))\n",
        "\n",
        "    # Plot trai ning & validation accuracy values\n",
        "    plt.subplot(1, 2, 1)\n",
        "    plt.plot(history.history['accuracy'])\n",
        "    plt.plot(history.history['val_accuracy'])\n",
        "    plt.title('Model accuracy')\n",
        "    plt.xlabel('Epoch')\n",
        "    plt.ylabel('Accuracy')\n",
        "    plt.legend(['Train', 'Validation'], loc='upper left')\n",
        "\n",
        "    # Plot training & validation loss values\n",
        "    plt.subplot(1, 2, 2)\n",
        "    plt.plot(history.history['loss'])\n",
        "    plt.plot(history.history['val_loss'])\n",
        "    plt.title('Model loss')\n",
        "    plt.xlabel('Epoch')\n",
        "    plt.ylabel('Loss')\n",
        "    plt.legend(['Train', 'Validation'], loc='upper left')\n",
        "\n",
        "    plt.tight_layout()\n",
        "    plt.show()\n",
        "\n",
        "plot_metrics(history)\n"
      ],
      "metadata": {
        "colab": {
          "base_uri": "https://localhost:8080/",
          "height": 1000
        },
        "id": "sEOwqOnAFKag",
        "outputId": "08654ede-9493-43e3-f3d4-d2e0344f1a0d"
      },
      "execution_count": null,
      "outputs": [
        {
          "output_type": "stream",
          "name": "stderr",
          "text": [
            "/usr/local/lib/python3.10/dist-packages/keras/src/preprocessing/image.py:2093: UserWarning: Expected input to be images (as Numpy array) following the data format convention \"channels_last\" (channels on axis 3), i.e. expected either 1, 3 or 4 channels on axis 3. However, it was passed an array with shape (533, 64, 64, 6) (6 channels).\n",
            "  warnings.warn(\n"
          ]
        },
        {
          "output_type": "stream",
          "name": "stdout",
          "text": [
            "Epoch 1/30\n",
            "17/17 [==============================] - 3s 89ms/step - loss: 0.7014 - accuracy: 0.2420 - val_loss: 0.6490 - val_accuracy: 0.2326\n",
            "Epoch 2/30\n",
            "17/17 [==============================] - 2s 90ms/step - loss: 0.6514 - accuracy: 0.2871 - val_loss: 0.6388 - val_accuracy: 0.2176\n",
            "Epoch 3/30\n",
            "17/17 [==============================] - 2s 136ms/step - loss: 0.6435 - accuracy: 0.3114 - val_loss: 0.6052 - val_accuracy: 0.2589\n",
            "Epoch 4/30\n",
            "17/17 [==============================] - 1s 78ms/step - loss: 0.5981 - accuracy: 0.3058 - val_loss: 0.6051 - val_accuracy: 0.2777\n",
            "Epoch 5/30\n",
            "17/17 [==============================] - 1s 75ms/step - loss: 0.5819 - accuracy: 0.3940 - val_loss: 0.6006 - val_accuracy: 0.3227\n",
            "Epoch 6/30\n",
            "17/17 [==============================] - 1s 74ms/step - loss: 0.5756 - accuracy: 0.3865 - val_loss: 0.5847 - val_accuracy: 0.3659\n",
            "Epoch 7/30\n",
            "17/17 [==============================] - 1s 80ms/step - loss: 0.5806 - accuracy: 0.3602 - val_loss: 0.5741 - val_accuracy: 0.3058\n",
            "Epoch 8/30\n",
            "17/17 [==============================] - 1s 75ms/step - loss: 0.5444 - accuracy: 0.3996 - val_loss: 0.5626 - val_accuracy: 0.3396\n",
            "Epoch 9/30\n",
            "17/17 [==============================] - 1s 80ms/step - loss: 0.5497 - accuracy: 0.3827 - val_loss: 0.5545 - val_accuracy: 0.3246\n",
            "Epoch 10/30\n",
            "17/17 [==============================] - 2s 136ms/step - loss: 0.5405 - accuracy: 0.4353 - val_loss: 0.5664 - val_accuracy: 0.2720\n",
            "Epoch 11/30\n",
            "17/17 [==============================] - 1s 75ms/step - loss: 0.5230 - accuracy: 0.4465 - val_loss: 0.5593 - val_accuracy: 0.2871\n",
            "Epoch 12/30\n",
            "17/17 [==============================] - 1s 78ms/step - loss: 0.5300 - accuracy: 0.4465 - val_loss: 0.5450 - val_accuracy: 0.3246\n",
            "Epoch 13/30\n",
            "17/17 [==============================] - 1s 75ms/step - loss: 0.5283 - accuracy: 0.4315 - val_loss: 0.5692 - val_accuracy: 0.3490\n",
            "Epoch 14/30\n",
            "17/17 [==============================] - 1s 79ms/step - loss: 0.5081 - accuracy: 0.4465 - val_loss: 0.5543 - val_accuracy: 0.3077\n",
            "Epoch 15/30\n",
            "17/17 [==============================] - 1s 72ms/step - loss: 0.5098 - accuracy: 0.4540 - val_loss: 0.5472 - val_accuracy: 0.3471\n",
            "Epoch 16/30\n",
            "17/17 [==============================] - 1s 75ms/step - loss: 0.4989 - accuracy: 0.4765 - val_loss: 0.5433 - val_accuracy: 0.3377\n",
            "Epoch 17/30\n",
            "17/17 [==============================] - 1s 82ms/step - loss: 0.5002 - accuracy: 0.4878 - val_loss: 0.5304 - val_accuracy: 0.3659\n",
            "Epoch 18/30\n",
            "17/17 [==============================] - 2s 136ms/step - loss: 0.5031 - accuracy: 0.4841 - val_loss: 0.4889 - val_accuracy: 0.4597\n",
            "Epoch 19/30\n",
            "17/17 [==============================] - 1s 83ms/step - loss: 0.4985 - accuracy: 0.4953 - val_loss: 0.4557 - val_accuracy: 0.5385\n",
            "Epoch 20/30\n",
            "17/17 [==============================] - 1s 74ms/step - loss: 0.4852 - accuracy: 0.5235 - val_loss: 0.4618 - val_accuracy: 0.5722\n",
            "Epoch 21/30\n",
            "17/17 [==============================] - 1s 73ms/step - loss: 0.4929 - accuracy: 0.5066 - val_loss: 0.4571 - val_accuracy: 0.5178\n",
            "Epoch 22/30\n",
            "17/17 [==============================] - 1s 82ms/step - loss: 0.4821 - accuracy: 0.5178 - val_loss: 0.4631 - val_accuracy: 0.5216\n",
            "Epoch 23/30\n",
            "17/17 [==============================] - 1s 76ms/step - loss: 0.4541 - accuracy: 0.5347 - val_loss: 0.4508 - val_accuracy: 0.5328\n",
            "Epoch 24/30\n",
            "17/17 [==============================] - 1s 73ms/step - loss: 0.4681 - accuracy: 0.5422 - val_loss: 0.4241 - val_accuracy: 0.6060\n",
            "Epoch 25/30\n",
            "17/17 [==============================] - 2s 148ms/step - loss: 0.4745 - accuracy: 0.5066 - val_loss: 0.4809 - val_accuracy: 0.5159\n",
            "Epoch 26/30\n",
            "17/17 [==============================] - 2s 121ms/step - loss: 0.4624 - accuracy: 0.5516 - val_loss: 0.4265 - val_accuracy: 0.5835\n",
            "Epoch 27/30\n",
            "17/17 [==============================] - 1s 74ms/step - loss: 0.4516 - accuracy: 0.5460 - val_loss: 0.4220 - val_accuracy: 0.5910\n",
            "Epoch 28/30\n",
            "17/17 [==============================] - 1s 73ms/step - loss: 0.4454 - accuracy: 0.5478 - val_loss: 0.4687 - val_accuracy: 0.5366\n",
            "Epoch 29/30\n",
            "17/17 [==============================] - 1s 74ms/step - loss: 0.4412 - accuracy: 0.5741 - val_loss: 0.4704 - val_accuracy: 0.4972\n",
            "Epoch 30/30\n",
            "17/17 [==============================] - 1s 73ms/step - loss: 0.4460 - accuracy: 0.5779 - val_loss: 0.4820 - val_accuracy: 0.5366\n"
          ]
        },
        {
          "output_type": "display_data",
          "data": {
            "text/plain": [
              "<Figure size 1200x400 with 2 Axes>"
            ],
            "image/png": "[encoded data removed]"
          },
          "metadata": {}
        }
      ]
    },
    {
      "cell_type": "code",
      "source": [
        "# Evaluate the performance as the accuracy on the test set.\n",
        "\n",
        "model.evaluate(test_img/255, test_labels_cat, batch_size=32)\n"
      ],
      "metadata": {
        "colab": {
          "base_uri": "https://localhost:8080/"
        },
        "id": "sCehf1fBFM7t",
        "outputId": "4fd8f59f-f81e-4754-f389-6463ee520454"
      },
      "execution_count": null,
      "outputs": [
        {
          "output_type": "stream",
          "name": "stdout",
          "text": [
            "17/17 [==============================] - 0s 4ms/step - loss: 0.4068 - accuracy: 0.5929\n"
          ]
        },
        {
          "output_type": "execute_result",
          "data": {
            "text/plain": [
              "[0.4068489372730255, 0.5928705334663391]"
            ]
          },
          "metadata": {},
          "execution_count": 15
        }
      ]
    },
    {
      "cell_type": "code",
      "source": [
        "# the above model is saved as model_with_data_augmentation in the same root file structure.\n",
        "\n",
        "model.save(\"model_with_data_augmentation2\")\n",
        "\n"
      ],
      "metadata": {
        "id": "BjVli53pFRsx"
      },
      "execution_count": null,
      "outputs": []
    },
    {
      "cell_type": "code",
      "source": [
        "from keras.preprocessing.image import load_img, img_to_array\n",
        "import numpy as np\n",
        "\n",
        "# Assuming you have a list of file paths for your test images\n",
        "test_image_paths = ['/content/drive/MyDrive/Colab Notebooks/KinFaceW-I/images/mother-dau/md_001_1.jpg', '/content/drive/MyDrive/Colab Notebooks/KinFaceW-I/images/father-son/fs_001_1.jpg']\n",
        "\n",
        "model = models.load_model('/content/drive/MyDrive/Colab Notebooks/improved_model_with_batch_normalzation_and_tanh')\n",
        "\n",
        "\n",
        "# Load and preprocess the test images\n",
        "test_images = []\n",
        "for image_path in test_image_paths:\n",
        "    img = load_img(image_path, target_size=(64, 64), color_mode='grayscale')\n",
        "    img_array = img_to_array(img)\n",
        "\n",
        "    # Repeat the single channel to create an image with six channels\n",
        "    img_array = np.repeat(img_array, 6, axis=-1)\n",
        "\n",
        "    img_array /= 255.0  # Normalize pixel values\n",
        "    test_images.append(img_array)\n",
        "\n",
        "test_images = np.array(test_images)\n",
        "\n",
        "# Assuming you have loaded and compiled your model\n",
        "# model = ...\n",
        "\n",
        "# Use the trained model to make predictions\n",
        "predictions = model.predict(test_images)\n",
        "\n",
        "# If you have binary classification (e.g., father-son or not), you can threshold the predictions\n",
        "# For multi-class classification, you can use argmax to get the predicted class\n",
        "predicted_labels = np.argmax(predictions, axis=1)\n",
        "\n",
        "# Display the predicted labels\n",
        "class_labels = ['fd', 'fs', 'md', 'ms']  # Replace with your actual class labels\n",
        "predicted_class_names = [class_labels[label] for label in predicted_labels]\n",
        "print(\"Predicted Labels:\", predicted_class_names)\n"
      ],
      "metadata": {
        "colab": {
          "base_uri": "https://localhost:8080/"
        },
        "id": "LCbgSAowNK2g",
        "outputId": "e652d380-5357-4cc4-ada6-8ea0a096b70e"
      },
      "execution_count": null,
      "outputs": [
        {
          "output_type": "stream",
          "name": "stdout",
          "text": [
            "1/1 [==============================] - 0s 327ms/step\n",
            "Predicted Labels: ['md', 'fs']\n"
          ]
        }
      ]
    },
    {
      "cell_type": "code",
      "source": [
        " from keras.models import load_model\n",
        "from keras.preprocessing import image\n",
        "import numpy as np\n",
        "\n",
        "# Load the trained model\n",
        "model = models.load_model('/content/drive/MyDrive/Colab Notebooks/improved_model_with_batch_normalzation_and_tanh')\n",
        "\n",
        "# Preprocess the two images you want to test\n",
        "def preprocess_image(image_path, expected_channels=6):\n",
        "    img = image.load_img(image_path, target_size=(64, 64))\n",
        "    img_array = image.img_to_array(img)\n",
        "\n",
        "    # If the expected channels are different, replicate the channels\n",
        "    if img_array.shape[-1] != expected_channels:\n",
        "        img_array = np.concatenate([img_array] * (expected_channels // 3), axis=-1)\n",
        "\n",
        "    img_array = np.expand_dims(img_array, axis=0) / 255.0  # Normalization\n",
        "    return img_array\n",
        "\n",
        "\n",
        "image_path_1 = '/content/drive/MyDrive/Colab Notebooks/KinFaceW-I/images/father-dau/fd_001_1.jpg'\n",
        "image_path_2 = '/content/drive/MyDrive/Colab Notebooks/KinFaceW-I/images/father-dau/fd_001_2.jpg'\n",
        "\n",
        "\n",
        "img_array_1 = preprocess_image(image_path_1, expected_channels=6)\n",
        "img_array_2 = preprocess_image(image_path_2, expected_channels=6)\n",
        "\n",
        "# Feed the images into the model\n",
        "prediction_1 = model.predict(img_array_1)\n",
        "prediction_2 = model.predict(img_array_2)\n",
        "\n",
        "# Interpret the predictions\n",
        "class_labels = ['fd', 'fs', 'md', 'ms']  # Replace with your actual class labels\n",
        "\n",
        "predicted_class_1 = class_labels[np.argmax(prediction_1)]\n",
        "predicted_class_2 = class_labels[np.argmax(prediction_2)]\n",
        "\n",
        "# Print or use the predictions as needed\n",
        "print(f'Prediction for image 1: {predicted_class_1}')\n",
        "print(f'Prediction for image 2: {predicted_class_2}')\n"
      ],
      "metadata": {
        "colab": {
          "base_uri": "https://localhost:8080/"
        },
        "id": "rwvbL6gKOmwx",
        "outputId": "667d6bb3-4c9f-44e9-c43f-f70ebb47478f"
      },
      "execution_count": null,
      "outputs": [
        {
          "output_type": "stream",
          "name": "stdout",
          "text": [
            "1/1 [==============================] - 0s 427ms/step\n",
            "1/1 [==============================] - 0s 26ms/step\n",
            "Prediction for image 1: fs\n",
            "Prediction for image 2: md\n"
          ]
        }
      ]
    },
    {
      "cell_type": "code",
      "source": [
        "model.summary()"
      ],
      "metadata": {
        "id": "kudYtN59WfBc",
        "colab": {
          "base_uri": "https://localhost:8080/"
        },
        "outputId": "c8b7ee48-6f84-4822-b7f6-cb5dcc20dd01"
      },
      "execution_count": null,
      "outputs": [
        {
          "output_type": "stream",
          "name": "stdout",
          "text": [
            "Model: \"sequential_4\"\n",
            "_________________________________________________________________\n",
            " Layer (type)                Output Shape              Param #   \n",
            "=================================================================\n",
            " conv2d_13 (Conv2D)          (None, 60, 60, 16)        2400      \n",
            "                                                                 \n",
            " batch_normalization_16 (Ba  (None, 60, 60, 16)        64        \n",
            " tchNormalization)                                               \n",
            "                                                                 \n",
            " activation_16 (Activation)  (None, 60, 60, 16)        0         \n",
            "                                                                 \n",
            " max_pooling2d_13 (MaxPooli  (None, 30, 30, 16)        0         \n",
            " ng2D)                                                           \n",
            "                                                                 \n",
            " conv2d_14 (Conv2D)          (None, 26, 26, 32)        12800     \n",
            "                                                                 \n",
            " batch_normalization_17 (Ba  (None, 26, 26, 32)        128       \n",
            " tchNormalization)                                               \n",
            "                                                                 \n",
            " activation_17 (Activation)  (None, 26, 26, 32)        0         \n",
            "                                                                 \n",
            " max_pooling2d_14 (MaxPooli  (None, 13, 13, 32)        0         \n",
            " ng2D)                                                           \n",
            "                                                                 \n",
            " conv2d_15 (Conv2D)          (None, 9, 9, 64)          51200     \n",
            "                                                                 \n",
            " batch_normalization_18 (Ba  (None, 9, 9, 64)          256       \n",
            " tchNormalization)                                               \n",
            "                                                                 \n",
            " activation_18 (Activation)  (None, 9, 9, 64)          0         \n",
            "                                                                 \n",
            " max_pooling2d_15 (MaxPooli  (None, 4, 4, 64)          0         \n",
            " ng2D)                                                           \n",
            "                                                                 \n",
            " conv2d_16 (Conv2D)          (None, 3, 3, 64)          16384     \n",
            "                                                                 \n",
            " batch_normalization_19 (Ba  (None, 3, 3, 64)          256       \n",
            " tchNormalization)                                               \n",
            "                                                                 \n",
            " activation_19 (Activation)  (None, 3, 3, 64)          0         \n",
            "                                                                 \n",
            " max_pooling2d_16 (MaxPooli  (None, 1, 1, 64)          0         \n",
            " ng2D)                                                           \n",
            "                                                                 \n",
            " flatten_4 (Flatten)         (None, 64)                0         \n",
            "                                                                 \n",
            " dense_7 (Dense)             (None, 512)               32768     \n",
            "                                                                 \n",
            " batch_normalization_20 (Ba  (None, 512)               2048      \n",
            " tchNormalization)                                               \n",
            "                                                                 \n",
            " activation_20 (Activation)  (None, 512)               0         \n",
            "                                                                 \n",
            " dense_8 (Dense)             (None, 4)                 2052      \n",
            "                                                                 \n",
            "=================================================================\n",
            "Total params: 120356 (470.14 KB)\n",
            "Trainable params: 118980 (464.77 KB)\n",
            "Non-trainable params: 1376 (5.38 KB)\n",
            "_________________________________________________________________\n"
          ]
        }
      ]
    }
  ]
}